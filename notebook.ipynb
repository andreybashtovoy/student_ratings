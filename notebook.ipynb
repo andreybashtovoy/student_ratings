{
 "cells": [
  {
   "cell_type": "markdown",
   "metadata": {},
   "source": [
    "## Цель работы: проверить, есть ли зависимость между балом ЗНО студентов и их рейтингом в университете"
   ]
  },
  {
   "cell_type": "markdown",
   "metadata": {},
   "source": [
    "Для работы использованы данные рейтинга студентов на бюджете 1-го курса КПИ факультета ФИВТ, взятые отсюда: [ссылка](https://dnvr.kpi.ua/wp-content/uploads/2021/02/2020-2021-1-%D0%A0%D0%B5%D0%B9%D1%82%D0%B8%D0%BD%D0%B3-%D0%A4%D0%86%D0%9E%D0%A2.pdf)\n",
    "\n",
    "Баллы ЗНО этих студентов получены с сайта https://abit-poisk.org.ua/"
   ]
  },
  {
   "cell_type": "code",
   "execution_count": 1,
   "metadata": {},
   "outputs": [],
   "source": [
    "import pandas as pd\n",
    "import numpy as np\n",
    "import matplotlib.pyplot as plt\n",
    "import seaborn as sns"
   ]
  },
  {
   "cell_type": "markdown",
   "metadata": {},
   "source": [
    "Импортируем данные о рейтинге в университете студентов 126-й специальности"
   ]
  },
  {
   "cell_type": "code",
   "execution_count": 2,
   "metadata": {},
   "outputs": [],
   "source": [
    "rating_126 = pd.read_excel(\"rating_126.xlsx\")"
   ]
  },
  {
   "cell_type": "code",
   "execution_count": 3,
   "metadata": {},
   "outputs": [
    {
     "data": {
      "text/html": [
       "<div>\n",
       "<style scoped>\n",
       "    .dataframe tbody tr th:only-of-type {\n",
       "        vertical-align: middle;\n",
       "    }\n",
       "\n",
       "    .dataframe tbody tr th {\n",
       "        vertical-align: top;\n",
       "    }\n",
       "\n",
       "    .dataframe thead th {\n",
       "        text-align: right;\n",
       "    }\n",
       "</style>\n",
       "<table border=\"1\" class=\"dataframe\">\n",
       "  <thead>\n",
       "    <tr style=\"text-align: right;\">\n",
       "      <th></th>\n",
       "      <th>ПІБ</th>\n",
       "      <th>Група</th>\n",
       "      <th>Код спец.</th>\n",
       "      <th>Сер. бал</th>\n",
       "      <th>Дод. бал</th>\n",
       "      <th>Рейтинг *</th>\n",
       "    </tr>\n",
       "  </thead>\n",
       "  <tbody>\n",
       "    <tr>\n",
       "      <th>0</th>\n",
       "      <td>Лінчук Анастасія  Вадимівна</td>\n",
       "      <td>ІК-02</td>\n",
       "      <td>126</td>\n",
       "      <td>99.00</td>\n",
       "      <td>NaN</td>\n",
       "      <td>94.05</td>\n",
       "    </tr>\n",
       "    <tr>\n",
       "      <th>1</th>\n",
       "      <td>Крамар Анна  Петрівна</td>\n",
       "      <td>ІК-02</td>\n",
       "      <td>126</td>\n",
       "      <td>98.83</td>\n",
       "      <td>NaN</td>\n",
       "      <td>93.89</td>\n",
       "    </tr>\n",
       "    <tr>\n",
       "      <th>2</th>\n",
       "      <td>Гацан Сергій  Юрійович</td>\n",
       "      <td>ІК-01</td>\n",
       "      <td>126</td>\n",
       "      <td>98.67</td>\n",
       "      <td>NaN</td>\n",
       "      <td>93.73</td>\n",
       "    </tr>\n",
       "    <tr>\n",
       "      <th>3</th>\n",
       "      <td>Омельченко Анна  Юріївна</td>\n",
       "      <td>ІК-01</td>\n",
       "      <td>126</td>\n",
       "      <td>95.50</td>\n",
       "      <td>60.0</td>\n",
       "      <td>93.73</td>\n",
       "    </tr>\n",
       "    <tr>\n",
       "      <th>4</th>\n",
       "      <td>Андреєв Андрій  Олександрович</td>\n",
       "      <td>ІА-02</td>\n",
       "      <td>126</td>\n",
       "      <td>96.83</td>\n",
       "      <td>NaN</td>\n",
       "      <td>91.99</td>\n",
       "    </tr>\n",
       "  </tbody>\n",
       "</table>\n",
       "</div>"
      ],
      "text/plain": [
       "                             ПІБ  Група  Код спец.  Сер. бал  Дод. бал  \\\n",
       "0    Лінчук Анастасія  Вадимівна  ІК-02        126     99.00       NaN   \n",
       "1          Крамар Анна  Петрівна  ІК-02        126     98.83       NaN   \n",
       "2         Гацан Сергій  Юрійович  ІК-01        126     98.67       NaN   \n",
       "3       Омельченко Анна  Юріївна  ІК-01        126     95.50      60.0   \n",
       "4  Андреєв Андрій  Олександрович  ІА-02        126     96.83       NaN   \n",
       "\n",
       "   Рейтинг *  \n",
       "0      94.05  \n",
       "1      93.89  \n",
       "2      93.73  \n",
       "3      93.73  \n",
       "4      91.99  "
      ]
     },
     "execution_count": 3,
     "metadata": {},
     "output_type": "execute_result"
    }
   ],
   "source": [
    "rating_126.head()"
   ]
  },
  {
   "cell_type": "code",
   "execution_count": 4,
   "metadata": {},
   "outputs": [],
   "source": [
    "rating_126.rename(columns={\"Рейтинг *\":\"rating\"}, inplace=True)"
   ]
  },
  {
   "cell_type": "markdown",
   "metadata": {},
   "source": [
    "Распределение баллов по специальности"
   ]
  },
  {
   "cell_type": "code",
   "execution_count": 5,
   "metadata": {},
   "outputs": [
    {
     "data": {
      "text/plain": [
       "<seaborn.axisgrid.FacetGrid at 0x24a1a80d490>"
      ]
     },
     "execution_count": 5,
     "metadata": {},
     "output_type": "execute_result"
    },
    {
     "data": {
      "image/png": "[encoded data removed]",
      "text/plain": [
       "<Figure size 360x360 with 1 Axes>"
      ]
     },
     "metadata": {
      "needs_background": "light"
     },
     "output_type": "display_data"
    }
   ],
   "source": [
    "sns.displot(rating_126.rating)"
   ]
  },
  {
   "cell_type": "markdown",
   "metadata": {},
   "source": [
    "Средние баллы по группам"
   ]
  },
  {
   "cell_type": "code",
   "execution_count": 6,
   "metadata": {},
   "outputs": [
    {
     "data": {
      "text/html": [
       "<div>\n",
       "<style scoped>\n",
       "    .dataframe tbody tr th:only-of-type {\n",
       "        vertical-align: middle;\n",
       "    }\n",
       "\n",
       "    .dataframe tbody tr th {\n",
       "        vertical-align: top;\n",
       "    }\n",
       "\n",
       "    .dataframe thead th {\n",
       "        text-align: right;\n",
       "    }\n",
       "</style>\n",
       "<table border=\"1\" class=\"dataframe\">\n",
       "  <thead>\n",
       "    <tr style=\"text-align: right;\">\n",
       "      <th></th>\n",
       "      <th>mean</th>\n",
       "      <th>std</th>\n",
       "    </tr>\n",
       "    <tr>\n",
       "      <th>Група</th>\n",
       "      <th></th>\n",
       "      <th></th>\n",
       "    </tr>\n",
       "  </thead>\n",
       "  <tbody>\n",
       "    <tr>\n",
       "      <th>ІК-01</th>\n",
       "      <td>84.381905</td>\n",
       "      <td>6.629942</td>\n",
       "    </tr>\n",
       "    <tr>\n",
       "      <th>ІС-02</th>\n",
       "      <td>81.922000</td>\n",
       "      <td>5.810545</td>\n",
       "    </tr>\n",
       "    <tr>\n",
       "      <th>ІА-02</th>\n",
       "      <td>81.607222</td>\n",
       "      <td>7.843569</td>\n",
       "    </tr>\n",
       "    <tr>\n",
       "      <th>ІК-02</th>\n",
       "      <td>81.201667</td>\n",
       "      <td>6.078857</td>\n",
       "    </tr>\n",
       "    <tr>\n",
       "      <th>ІА-04</th>\n",
       "      <td>80.250526</td>\n",
       "      <td>6.361489</td>\n",
       "    </tr>\n",
       "    <tr>\n",
       "      <th>ІК-03</th>\n",
       "      <td>80.179500</td>\n",
       "      <td>7.087126</td>\n",
       "    </tr>\n",
       "    <tr>\n",
       "      <th>ІА-01</th>\n",
       "      <td>79.775714</td>\n",
       "      <td>5.921114</td>\n",
       "    </tr>\n",
       "    <tr>\n",
       "      <th>ІС-01</th>\n",
       "      <td>79.760000</td>\n",
       "      <td>6.348126</td>\n",
       "    </tr>\n",
       "    <tr>\n",
       "      <th>ІА-03</th>\n",
       "      <td>77.539524</td>\n",
       "      <td>4.083766</td>\n",
       "    </tr>\n",
       "    <tr>\n",
       "      <th>ІС-03</th>\n",
       "      <td>77.500000</td>\n",
       "      <td>4.133718</td>\n",
       "    </tr>\n",
       "  </tbody>\n",
       "</table>\n",
       "</div>"
      ],
      "text/plain": [
       "            mean       std\n",
       "Група                     \n",
       "ІК-01  84.381905  6.629942\n",
       "ІС-02  81.922000  5.810545\n",
       "ІА-02  81.607222  7.843569\n",
       "ІК-02  81.201667  6.078857\n",
       "ІА-04  80.250526  6.361489\n",
       "ІК-03  80.179500  7.087126\n",
       "ІА-01  79.775714  5.921114\n",
       "ІС-01  79.760000  6.348126\n",
       "ІА-03  77.539524  4.083766\n",
       "ІС-03  77.500000  4.133718"
      ]
     },
     "execution_count": 6,
     "metadata": {},
     "output_type": "execute_result"
    }
   ],
   "source": [
    "rating_126.groupby(by=\"Група\").rating.agg([np.mean, np.std]).sort_values(by=\"mean\", ascending=False)"
   ]
  },
  {
   "cell_type": "markdown",
   "metadata": {},
   "source": [
    "Импорт и обработка спрарсенных данных с баллами ЗНО 126-й специальности"
   ]
  },
  {
   "cell_type": "code",
   "execution_count": 7,
   "metadata": {},
   "outputs": [],
   "source": [
    "zno_126 = pd.read_csv('zno_126.csv', header=None)\n",
    "\n",
    "zno_126['name'] = zno_126[0].apply(lambda x: x.strip())\n",
    "\n",
    "zno_126.drop(0, axis=1, inplace=True)\n",
    "\n",
    "zno_126.columns = ['score', 'name']\n",
    "\n",
    "zno_126['surname'] = zno_126.name.apply(lambda x: x.split(\" \")[0])"
   ]
  },
  {
   "cell_type": "code",
   "execution_count": 8,
   "metadata": {},
   "outputs": [
    {
     "data": {
      "text/html": [
       "<div>\n",
       "<style scoped>\n",
       "    .dataframe tbody tr th:only-of-type {\n",
       "        vertical-align: middle;\n",
       "    }\n",
       "\n",
       "    .dataframe tbody tr th {\n",
       "        vertical-align: top;\n",
       "    }\n",
       "\n",
       "    .dataframe thead th {\n",
       "        text-align: right;\n",
       "    }\n",
       "</style>\n",
       "<table border=\"1\" class=\"dataframe\">\n",
       "  <thead>\n",
       "    <tr style=\"text-align: right;\">\n",
       "      <th></th>\n",
       "      <th>score</th>\n",
       "      <th>name</th>\n",
       "      <th>surname</th>\n",
       "    </tr>\n",
       "  </thead>\n",
       "  <tbody>\n",
       "    <tr>\n",
       "      <th>0</th>\n",
       "      <td>188.75</td>\n",
       "      <td>174-6891123 К. А.</td>\n",
       "      <td>174-6891123</td>\n",
       "    </tr>\n",
       "    <tr>\n",
       "      <th>1</th>\n",
       "      <td>183.25</td>\n",
       "      <td>Міхненко А. О.</td>\n",
       "      <td>Міхненко</td>\n",
       "    </tr>\n",
       "    <tr>\n",
       "      <th>2</th>\n",
       "      <td>181.50</td>\n",
       "      <td>Скрипник К. О.</td>\n",
       "      <td>Скрипник</td>\n",
       "    </tr>\n",
       "    <tr>\n",
       "      <th>3</th>\n",
       "      <td>177.00</td>\n",
       "      <td>Кучеренко К. А.</td>\n",
       "      <td>Кучеренко</td>\n",
       "    </tr>\n",
       "    <tr>\n",
       "      <th>4</th>\n",
       "      <td>176.25</td>\n",
       "      <td>Семенюк Д. В.</td>\n",
       "      <td>Семенюк</td>\n",
       "    </tr>\n",
       "    <tr>\n",
       "      <th>...</th>\n",
       "      <td>...</td>\n",
       "      <td>...</td>\n",
       "      <td>...</td>\n",
       "    </tr>\n",
       "    <tr>\n",
       "      <th>225</th>\n",
       "      <td>186.25</td>\n",
       "      <td>Тарасов В. О.</td>\n",
       "      <td>Тарасов</td>\n",
       "    </tr>\n",
       "    <tr>\n",
       "      <th>226</th>\n",
       "      <td>186.25</td>\n",
       "      <td>Епштейн А. К.</td>\n",
       "      <td>Епштейн</td>\n",
       "    </tr>\n",
       "    <tr>\n",
       "      <th>227</th>\n",
       "      <td>186.15</td>\n",
       "      <td>Булботка Н. В.</td>\n",
       "      <td>Булботка</td>\n",
       "    </tr>\n",
       "    <tr>\n",
       "      <th>228</th>\n",
       "      <td>186.15</td>\n",
       "      <td>Кречківська Т. В.</td>\n",
       "      <td>Кречківська</td>\n",
       "    </tr>\n",
       "    <tr>\n",
       "      <th>229</th>\n",
       "      <td>186.00</td>\n",
       "      <td>Полковський І. О.</td>\n",
       "      <td>Полковський</td>\n",
       "    </tr>\n",
       "  </tbody>\n",
       "</table>\n",
       "<p>230 rows × 3 columns</p>\n",
       "</div>"
      ],
      "text/plain": [
       "      score               name      surname\n",
       "0    188.75  174-6891123 К. А.  174-6891123\n",
       "1    183.25     Міхненко А. О.     Міхненко\n",
       "2    181.50     Скрипник К. О.     Скрипник\n",
       "3    177.00    Кучеренко К. А.    Кучеренко\n",
       "4    176.25      Семенюк Д. В.      Семенюк\n",
       "..      ...                ...          ...\n",
       "225  186.25      Тарасов В. О.      Тарасов\n",
       "226  186.25      Епштейн А. К.      Епштейн\n",
       "227  186.15     Булботка Н. В.     Булботка\n",
       "228  186.15  Кречківська Т. В.  Кречківська\n",
       "229  186.00  Полковський І. О.  Полковський\n",
       "\n",
       "[230 rows x 3 columns]"
      ]
     },
     "execution_count": 8,
     "metadata": {},
     "output_type": "execute_result"
    }
   ],
   "source": [
    "zno_126"
   ]
  },
  {
   "cell_type": "markdown",
   "metadata": {},
   "source": [
    "Соединим две таблицы в одну по фамилии"
   ]
  },
  {
   "cell_type": "code",
   "execution_count": 9,
   "metadata": {},
   "outputs": [],
   "source": [
    "rating_126['surname'] = rating_126['ПІБ'].apply(lambda x: x.split(\" \")[0])\n",
    "\n",
    "merged = rating_126.merge(zno_126, on='surname')[['ПІБ', 'Група', 'Сер. бал', 'score']]\n",
    "\n",
    "merged['groups'] = merged['Група'].apply(lambda x: x.split('-')[0])"
   ]
  },
  {
   "cell_type": "code",
   "execution_count": 10,
   "metadata": {},
   "outputs": [
    {
     "data": {
      "text/plain": [
       "Text(0, 0.5, 'ЗНО')"
      ]
     },
     "execution_count": 10,
     "metadata": {},
     "output_type": "execute_result"
    },
    {
     "data": {
      "image/png": "[encoded data removed]",
      "text/plain": [
       "<Figure size 432x288 with 1 Axes>"
      ]
     },
     "metadata": {
      "needs_background": "light"
     },
     "output_type": "display_data"
    }
   ],
   "source": [
    "sns.scatterplot(x='Сер. бал', y='score', data=merged, hue='groups')\n",
    "plt.ylabel(\"ЗНО\")"
   ]
  },
  {
   "cell_type": "markdown",
   "metadata": {},
   "source": [
    "Как видим, на графики есть выборсы - студенты, которых перевели с контракта на бюджет из-за наличия свободных мест. Эти выборсы обрежем"
   ]
  },
  {
   "cell_type": "code",
   "execution_count": 11,
   "metadata": {},
   "outputs": [],
   "source": [
    "merged_cut = merged[merged['score'] > 183]"
   ]
  },
  {
   "cell_type": "code",
   "execution_count": 12,
   "metadata": {
    "scrolled": true
   },
   "outputs": [
    {
     "data": {
      "text/plain": [
       "Text(0, 0.5, 'ЗНО')"
      ]
     },
     "execution_count": 12,
     "metadata": {},
     "output_type": "execute_result"
    },
    {
     "data": {
      "image/png": "[encoded data removed]",
      "text/plain": [
       "<Figure size 432x288 with 1 Axes>"
      ]
     },
     "metadata": {
      "needs_background": "light"
     },
     "output_type": "display_data"
    }
   ],
   "source": [
    "sns.scatterplot(x='Сер. бал', y='score', data=merged_cut, hue='groups')\n",
    "plt.ylabel(\"ЗНО\")"
   ]
  },
  {
   "cell_type": "markdown",
   "metadata": {},
   "source": [
    "Как видим, все точки распределены равномерно, то есть нет никакой зависимости между баллов ЗНО и баллом на сессии в университете на этой специальности."
   ]
  },
  {
   "cell_type": "markdown",
   "metadata": {},
   "source": [
    "Проделаем те же действия для 121-й специальности этого факультета"
   ]
  },
  {
   "cell_type": "code",
   "execution_count": 13,
   "metadata": {},
   "outputs": [],
   "source": [
    "rating_121 = pd.read_excel('rating_121.xlsx')"
   ]
  },
  {
   "cell_type": "code",
   "execution_count": 14,
   "metadata": {
    "scrolled": true
   },
   "outputs": [
    {
     "data": {
      "text/html": [
       "<div>\n",
       "<style scoped>\n",
       "    .dataframe tbody tr th:only-of-type {\n",
       "        vertical-align: middle;\n",
       "    }\n",
       "\n",
       "    .dataframe tbody tr th {\n",
       "        vertical-align: top;\n",
       "    }\n",
       "\n",
       "    .dataframe thead th {\n",
       "        text-align: right;\n",
       "    }\n",
       "</style>\n",
       "<table border=\"1\" class=\"dataframe\">\n",
       "  <thead>\n",
       "    <tr style=\"text-align: right;\">\n",
       "      <th></th>\n",
       "      <th>ПІБ</th>\n",
       "      <th>Група</th>\n",
       "      <th>Код спец.</th>\n",
       "      <th>Сер. бал</th>\n",
       "      <th>Дод. бал</th>\n",
       "      <th>Рейтинг *</th>\n",
       "    </tr>\n",
       "  </thead>\n",
       "  <tbody>\n",
       "    <tr>\n",
       "      <th>0</th>\n",
       "      <td>Гордуз Олександр  Сергійович</td>\n",
       "      <td>ІТ-03</td>\n",
       "      <td>121</td>\n",
       "      <td>99.33</td>\n",
       "      <td>NaN</td>\n",
       "      <td>94.37</td>\n",
       "    </tr>\n",
       "    <tr>\n",
       "      <th>1</th>\n",
       "      <td>Макаров Ілля  Сергійович</td>\n",
       "      <td>ІТ-02</td>\n",
       "      <td>121</td>\n",
       "      <td>99.33</td>\n",
       "      <td>NaN</td>\n",
       "      <td>94.37</td>\n",
       "    </tr>\n",
       "    <tr>\n",
       "      <th>2</th>\n",
       "      <td>Куксюк Владислав  Ігорович</td>\n",
       "      <td>ІТ-03</td>\n",
       "      <td>121</td>\n",
       "      <td>99.17</td>\n",
       "      <td>NaN</td>\n",
       "      <td>94.21</td>\n",
       "    </tr>\n",
       "    <tr>\n",
       "      <th>3</th>\n",
       "      <td>Ящук Денис  Андрійович</td>\n",
       "      <td>ІТ-04</td>\n",
       "      <td>121</td>\n",
       "      <td>98.67</td>\n",
       "      <td>NaN</td>\n",
       "      <td>93.73</td>\n",
       "    </tr>\n",
       "    <tr>\n",
       "      <th>4</th>\n",
       "      <td>Гавриленко Ян  Сергійович</td>\n",
       "      <td>ІТ-04</td>\n",
       "      <td>121</td>\n",
       "      <td>98.50</td>\n",
       "      <td>NaN</td>\n",
       "      <td>93.58</td>\n",
       "    </tr>\n",
       "    <tr>\n",
       "      <th>...</th>\n",
       "      <td>...</td>\n",
       "      <td>...</td>\n",
       "      <td>...</td>\n",
       "      <td>...</td>\n",
       "      <td>...</td>\n",
       "      <td>...</td>\n",
       "    </tr>\n",
       "    <tr>\n",
       "      <th>129</th>\n",
       "      <td>Чуєнко Дмитро  Віталійович</td>\n",
       "      <td>ІП-04</td>\n",
       "      <td>121</td>\n",
       "      <td>72.50</td>\n",
       "      <td>NaN</td>\n",
       "      <td>68.88</td>\n",
       "    </tr>\n",
       "    <tr>\n",
       "      <th>130</th>\n",
       "      <td>Зеленський Олександр  Васильович</td>\n",
       "      <td>ІП-01</td>\n",
       "      <td>121</td>\n",
       "      <td>72.17</td>\n",
       "      <td>NaN</td>\n",
       "      <td>68.56</td>\n",
       "    </tr>\n",
       "    <tr>\n",
       "      <th>131</th>\n",
       "      <td>Кльова Микола  Михайлович</td>\n",
       "      <td>ІТ-04</td>\n",
       "      <td>121</td>\n",
       "      <td>72.17</td>\n",
       "      <td>NaN</td>\n",
       "      <td>68.56</td>\n",
       "    </tr>\n",
       "    <tr>\n",
       "      <th>132</th>\n",
       "      <td>Глущенко Олександр  Володимирович</td>\n",
       "      <td>ІП-02</td>\n",
       "      <td>121</td>\n",
       "      <td>71.17</td>\n",
       "      <td>NaN</td>\n",
       "      <td>67.61</td>\n",
       "    </tr>\n",
       "    <tr>\n",
       "      <th>133</th>\n",
       "      <td>Перетятько Ілля  Олегович</td>\n",
       "      <td>ІТ-04</td>\n",
       "      <td>121</td>\n",
       "      <td>68.17</td>\n",
       "      <td>NaN</td>\n",
       "      <td>64.76</td>\n",
       "    </tr>\n",
       "  </tbody>\n",
       "</table>\n",
       "<p>134 rows × 6 columns</p>\n",
       "</div>"
      ],
      "text/plain": [
       "                                   ПІБ  Група  Код спец.  Сер. бал  Дод. бал  \\\n",
       "0         Гордуз Олександр  Сергійович  ІТ-03        121     99.33       NaN   \n",
       "1             Макаров Ілля  Сергійович  ІТ-02        121     99.33       NaN   \n",
       "2           Куксюк Владислав  Ігорович  ІТ-03        121     99.17       NaN   \n",
       "3               Ящук Денис  Андрійович  ІТ-04        121     98.67       NaN   \n",
       "4            Гавриленко Ян  Сергійович  ІТ-04        121     98.50       NaN   \n",
       "..                                 ...    ...        ...       ...       ...   \n",
       "129         Чуєнко Дмитро  Віталійович  ІП-04        121     72.50       NaN   \n",
       "130   Зеленський Олександр  Васильович  ІП-01        121     72.17       NaN   \n",
       "131          Кльова Микола  Михайлович  ІТ-04        121     72.17       NaN   \n",
       "132  Глущенко Олександр  Володимирович  ІП-02        121     71.17       NaN   \n",
       "133          Перетятько Ілля  Олегович  ІТ-04        121     68.17       NaN   \n",
       "\n",
       "     Рейтинг *  \n",
       "0        94.37  \n",
       "1        94.37  \n",
       "2        94.21  \n",
       "3        93.73  \n",
       "4        93.58  \n",
       "..         ...  \n",
       "129      68.88  \n",
       "130      68.56  \n",
       "131      68.56  \n",
       "132      67.61  \n",
       "133      64.76  \n",
       "\n",
       "[134 rows x 6 columns]"
      ]
     },
     "execution_count": 14,
     "metadata": {},
     "output_type": "execute_result"
    }
   ],
   "source": [
    "rating_121"
   ]
  },
  {
   "cell_type": "code",
   "execution_count": 15,
   "metadata": {},
   "outputs": [],
   "source": [
    "rating_121['surname'] = rating_121['ПІБ'].apply(lambda x: x.split(\" \")[0])"
   ]
  },
  {
   "cell_type": "code",
   "execution_count": 16,
   "metadata": {},
   "outputs": [],
   "source": [
    "zno_121 = pd.read_csv('zno_121.csv', header=None)\n",
    "zno_121['name'] = zno_121[0].apply(lambda x: x.strip())\n",
    "zno_121.drop(0, axis=1, inplace=True)\n",
    "zno_121.columns = ['score', 'name']\n",
    "zno_121['surname'] = zno_121.name.apply(lambda x: x.split(\" \")[0])"
   ]
  },
  {
   "cell_type": "code",
   "execution_count": 17,
   "metadata": {
    "scrolled": true
   },
   "outputs": [],
   "source": [
    "merged_121 = rating_121.merge(zno_121, on='surname')[['ПІБ', 'Група', 'Сер. бал', 'score']]\n",
    "merged_121['groups'] = merged_121['Група'].apply(lambda x: x.split('-')[0])\n",
    "merged_121_cut = merged_121[merged_121['score'] > 188]"
   ]
  },
  {
   "cell_type": "code",
   "execution_count": 18,
   "metadata": {
    "scrolled": true
   },
   "outputs": [
    {
     "data": {
      "text/plain": [
       "Text(0, 0.5, 'ЗНО')"
      ]
     },
     "execution_count": 18,
     "metadata": {},
     "output_type": "execute_result"
    },
    {
     "data": {
      "image/png": "[encoded data removed]",
      "text/plain": [
       "<Figure size 432x288 with 1 Axes>"
      ]
     },
     "metadata": {
      "needs_background": "light"
     },
     "output_type": "display_data"
    }
   ],
   "source": [
    "sns.scatterplot(x='Сер. бал', y='score', data=merged_121_cut, hue='groups')\n",
    "plt.ylabel(\"ЗНО\")"
   ]
  },
  {
   "cell_type": "markdown",
   "metadata": {},
   "source": [
    "Со 121-й специальностью систуация аналогична."
   ]
  }
 ],
 "metadata": {
  "kernelspec": {
   "display_name": "Python 3",
   "language": "python",
   "name": "python3"
  },
  "language_info": {
   "codemirror_mode": {
    "name": "ipython",
    "version": 3
   },
   "file_extension": ".py",
   "mimetype": "text/x-python",
   "name": "python",
   "nbconvert_exporter": "python",
   "pygments_lexer": "ipython3",
   "version": "3.8.5"
  }
 },
 "nbformat": 4,
 "nbformat_minor": 4
}
